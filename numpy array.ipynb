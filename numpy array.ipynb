{
 "cells": [
  {
   "cell_type": "code",
   "execution_count": 85,
   "id": "a8764f81",
   "metadata": {},
   "outputs": [
    {
     "name": "stdout",
     "output_type": "stream",
     "text": [
      "[1 2 3]\n"
     ]
    }
   ],
   "source": [
    "import numpy as np\n",
    "arr1 = np.array([1,2,3])\n",
    "print(arr1)"
   ]
  },
  {
   "cell_type": "code",
   "execution_count": 23,
   "id": "baab7666",
   "metadata": {},
   "outputs": [
    {
     "data": {
      "text/plain": [
       "3"
      ]
     },
     "execution_count": 23,
     "metadata": {},
     "output_type": "execute_result"
    }
   ],
   "source": [
    "arr1[2]"
   ]
  },
  {
   "cell_type": "code",
   "execution_count": 3,
   "id": "46d47554",
   "metadata": {},
   "outputs": [],
   "source": [
    "arr1[2]=5"
   ]
  },
  {
   "cell_type": "code",
   "execution_count": 4,
   "id": "4740fefd",
   "metadata": {},
   "outputs": [
    {
     "data": {
      "text/plain": [
       "array([1, 2, 5])"
      ]
     },
     "execution_count": 4,
     "metadata": {},
     "output_type": "execute_result"
    }
   ],
   "source": [
    "arr1"
   ]
  },
  {
   "cell_type": "code",
   "execution_count": 11,
   "id": "75328e8a",
   "metadata": {},
   "outputs": [
    {
     "name": "stdout",
     "output_type": "stream",
     "text": [
      "[[1 2 3]\n",
      " [4 5 6]]\n"
     ]
    }
   ],
   "source": [
    "arr2 =np.array([[1,2,3],[4,5,6]])\n",
    "print(arr2)"
   ]
  },
  {
   "cell_type": "code",
   "execution_count": 12,
   "id": "c02aa9a8",
   "metadata": {},
   "outputs": [
    {
     "name": "stdout",
     "output_type": "stream",
     "text": [
      "the shape is 2 row and 3 columns: (2, 3)\n"
     ]
    }
   ],
   "source": [
    "print(\"the shape is 2 row and 3 columns:\",arr2.shape)"
   ]
  },
  {
   "cell_type": "code",
   "execution_count": 10,
   "id": "b57e242e",
   "metadata": {},
   "outputs": [
    {
     "name": "stdout",
     "output_type": "stream",
     "text": [
      "3\n",
      "3\n",
      "3\n",
      "4\n"
     ]
    }
   ],
   "source": [
    "print(arr2[0][2])\n",
    "print(arr2[0,2])\n",
    "print(arr2[0,-1])\n",
    "print(arr2[-1,0])"
   ]
  },
  {
   "cell_type": "code",
   "execution_count": 14,
   "id": "dfd5c454",
   "metadata": {},
   "outputs": [
    {
     "name": "stdout",
     "output_type": "stream",
     "text": [
      "['India' 'china' 'usa' 'mexico']\n"
     ]
    }
   ],
   "source": [
    "arr3=np.array(['India','china','usa','mexico'])\n",
    "print(arr3)"
   ]
  },
  {
   "cell_type": "code",
   "execution_count": 16,
   "id": "de243552",
   "metadata": {},
   "outputs": [
    {
     "data": {
      "text/plain": [
       "'mexico'"
      ]
     },
     "execution_count": 16,
     "metadata": {},
     "output_type": "execute_result"
    }
   ],
   "source": [
    "arr3[3]"
   ]
  },
  {
   "cell_type": "code",
   "execution_count": 27,
   "id": "db01e858",
   "metadata": {},
   "outputs": [
    {
     "name": "stdout",
     "output_type": "stream",
     "text": [
      "[ 0  2  4  6  8 10 12 14 16 18]\n"
     ]
    }
   ],
   "source": [
    "arr=np.arange(0,20,2)\n",
    "print(arr)"
   ]
  },
  {
   "cell_type": "code",
   "execution_count": 40,
   "id": "76452f3f",
   "metadata": {},
   "outputs": [
    {
     "name": "stdout",
     "output_type": "stream",
     "text": [
      "[0.         0.10526316 0.21052632 0.31578947 0.42105263 0.52631579\n",
      " 0.63157895 0.73684211 0.84210526 0.94736842 1.05263158 1.15789474\n",
      " 1.26315789 1.36842105 1.47368421 1.57894737 1.68421053 1.78947368\n",
      " 1.89473684 2.        ]\n"
     ]
    }
   ],
   "source": [
    "arr=np.linspace(0,2,20)\n",
    "print(arr)"
   ]
  },
  {
   "cell_type": "code",
   "execution_count": 41,
   "id": "e251c3c8",
   "metadata": {},
   "outputs": [
    {
     "name": "stdout",
     "output_type": "stream",
     "text": [
      "[0.13500644 0.85152867 0.1330243  0.44122674 0.3262685  0.63490884\n",
      " 0.0687695  0.66217505 0.1183444  0.43907164]\n",
      "\n",
      "\n",
      "[[0.67040182 0.13964011 0.97078298 0.54432332]\n",
      " [0.47004027 0.41385433 0.36173126 0.11981005]\n",
      " [0.21727102 0.70453876 0.01799847 0.00534796]]\n"
     ]
    }
   ],
   "source": [
    "arr=np.random.rand(10)\n",
    "print(arr)\n",
    "print('\\n')\n",
    "arr= np.random.rand(3,4)\n",
    "print(arr)"
   ]
  },
  {
   "cell_type": "code",
   "execution_count": 46,
   "id": "de2d436c",
   "metadata": {},
   "outputs": [
    {
     "name": "stdout",
     "output_type": "stream",
     "text": [
      "[[1.1 1.1 1.1 1.1]\n",
      " [1.1 1.1 1.1 1.1]\n",
      " [1.1 1.1 1.1 1.1]\n",
      " [1.1 1.1 1.1 1.1]\n",
      " [1.1 1.1 1.1 1.1]]\n"
     ]
    }
   ],
   "source": [
    "print(np.full((5,4),1.1))"
   ]
  },
  {
   "cell_type": "code",
   "execution_count": 49,
   "id": "c4c4a2a3",
   "metadata": {},
   "outputs": [
    {
     "name": "stdout",
     "output_type": "stream",
     "text": [
      "[0 0 0 0 1 1 1 1 2 2 2 2]\n"
     ]
    }
   ],
   "source": [
    "arr=[0,1,2]\n",
    "print(np.repeat(arr,4))"
   ]
  },
  {
   "cell_type": "code",
   "execution_count": 52,
   "id": "0202dad6",
   "metadata": {},
   "outputs": [
    {
     "name": "stdout",
     "output_type": "stream",
     "text": [
      "[0 1 2 0 1 2 0 1 2]\n"
     ]
    }
   ],
   "source": [
    "arr=[0,1,2]\n",
    "print(np.tile(arr,3))"
   ]
  },
  {
   "cell_type": "code",
   "execution_count": 53,
   "id": "18ea3420",
   "metadata": {},
   "outputs": [
    {
     "name": "stdout",
     "output_type": "stream",
     "text": [
      "[[1. 0. 0.]\n",
      " [0. 1. 0.]\n",
      " [0. 0. 1.]]\n"
     ]
    }
   ],
   "source": [
    "identity_matrix=np.eye(3)\n",
    "print(identity_matrix)"
   ]
  },
  {
   "cell_type": "code",
   "execution_count": 54,
   "id": "53459171",
   "metadata": {},
   "outputs": [
    {
     "name": "stdout",
     "output_type": "stream",
     "text": [
      "[[1. 0. 0.]\n",
      " [0. 1. 0.]\n",
      " [0. 0. 1.]]\n"
     ]
    }
   ],
   "source": [
    "identity_matrix=np.identity(3)\n",
    "print(identity_matrix)"
   ]
  },
  {
   "cell_type": "code",
   "execution_count": 56,
   "id": "6ddcacc1",
   "metadata": {},
   "outputs": [
    {
     "name": "stdout",
     "output_type": "stream",
     "text": [
      "[[0.8817744  0.07327285 0.53095901 0.39762508 0.65922738]\n",
      " [0.73417368 0.3233446  0.8521809  0.86738828 0.64576616]\n",
      " [0.04608411 0.52393489 0.28619072 0.63982743 0.33331997]\n",
      " [0.14677823 0.772257   0.66817242 0.97607172 0.91951648]\n",
      " [0.7082677  0.77271454 0.08345971 0.88573906 0.3304318 ]]\n"
     ]
    }
   ],
   "source": [
    "arr=np.random.rand(5,5)\n",
    "print(arr)"
   ]
  },
  {
   "cell_type": "code",
   "execution_count": 59,
   "id": "a2c9c334",
   "metadata": {},
   "outputs": [
    {
     "name": "stdout",
     "output_type": "stream",
     "text": [
      "[2.51707811 2.46552389 2.42096275 3.76665156 2.88826178]\n"
     ]
    }
   ],
   "source": [
    "print(np.sum(arr,axis=0))"
   ]
  },
  {
   "cell_type": "code",
   "execution_count": 62,
   "id": "88f6e364",
   "metadata": {},
   "outputs": [
    {
     "name": "stdout",
     "output_type": "stream",
     "text": [
      "[2.54285871 3.42285361 1.82935711 3.48279585 2.7806128 ]\n"
     ]
    }
   ],
   "source": [
    "print(np.sum(arr,axis=1))"
   ]
  },
  {
   "cell_type": "code",
   "execution_count": 63,
   "id": "f947c05c",
   "metadata": {},
   "outputs": [
    {
     "name": "stdout",
     "output_type": "stream",
     "text": [
      "0.5623391235048326\n",
      "0.6457661586124575\n",
      "0.285100468632887\n",
      "0.0812822772146918\n"
     ]
    }
   ],
   "source": [
    "print(np.mean(arr))\n",
    "print(np.median(arr))\n",
    "print(np.std(arr))\n",
    "print(np.var(arr))\n"
   ]
  },
  {
   "cell_type": "code",
   "execution_count": 66,
   "id": "893dcd66",
   "metadata": {},
   "outputs": [
    {
     "name": "stdout",
     "output_type": "stream",
     "text": [
      "[[0.06554404 0.08871633 0.24384491 0.92317746 0.67337723]\n",
      " [0.71029743 0.07600227 0.68504708 0.57920323 0.79772771]\n",
      " [0.91432125 0.3117001  0.62793431 0.41836198 0.96918555]\n",
      " [0.41264443 0.44431116 0.499346   0.55111995 0.82327465]\n",
      " [0.59767522 0.86001279 0.39476193 0.20726594 0.72941023]]\n"
     ]
    }
   ],
   "source": [
    "arr=np.random.rand(5,5)\n",
    "print(arr)"
   ]
  },
  {
   "cell_type": "code",
   "execution_count": 67,
   "id": "e0fb4c19",
   "metadata": {},
   "outputs": [
    {
     "name": "stdout",
     "output_type": "stream",
     "text": [
      "[[0.06554404 0.08871633 0.24384491 0.67337723 0.92317746]\n",
      " [0.07600227 0.57920323 0.68504708 0.71029743 0.79772771]\n",
      " [0.3117001  0.41836198 0.62793431 0.91432125 0.96918555]\n",
      " [0.41264443 0.44431116 0.499346   0.55111995 0.82327465]\n",
      " [0.20726594 0.39476193 0.59767522 0.72941023 0.86001279]]\n"
     ]
    }
   ],
   "source": [
    "print(np.sort(arr,axis=1))"
   ]
  },
  {
   "cell_type": "code",
   "execution_count": 68,
   "id": "54d4f7db",
   "metadata": {},
   "outputs": [],
   "source": [
    "arr=np.array([4,5,6,7])"
   ]
  },
  {
   "cell_type": "code",
   "execution_count": 73,
   "id": "4b1c273d",
   "metadata": {},
   "outputs": [
    {
     "data": {
      "text/plain": [
       "array([4, 5, 6, 7, 8])"
      ]
     },
     "execution_count": 73,
     "metadata": {},
     "output_type": "execute_result"
    }
   ],
   "source": [
    "arr1=np.append(arr,8)\n",
    "arr1"
   ]
  },
  {
   "cell_type": "code",
   "execution_count": 75,
   "id": "85863c93",
   "metadata": {},
   "outputs": [
    {
     "name": "stdout",
     "output_type": "stream",
     "text": [
      "[ 4  5  6  7  9 10 11]\n"
     ]
    }
   ],
   "source": [
    "arr2=np.append(arr,[9,10,11])\n",
    "print(arr2)"
   ]
  },
  {
   "cell_type": "code",
   "execution_count": 78,
   "id": "de547f03",
   "metadata": {},
   "outputs": [
    {
     "name": "stdout",
     "output_type": "stream",
     "text": [
      "[ 4  5  6  7  8  9 10 11]\n",
      "\n",
      "\n",
      "[ 4  6  7  9 10 11]\n"
     ]
    }
   ],
   "source": [
    "arr2=np.array([4,5,6,7,8,9,10,11])\n",
    "print(arr2)\n",
    "print('\\n')\n",
    "arr5=np.delete(arr2,[1,4])\n",
    "print(arr5)"
   ]
  },
  {
   "cell_type": "code",
   "execution_count": 79,
   "id": "25762c06",
   "metadata": {},
   "outputs": [],
   "source": [
    "arr1=np.array([[1,2,3,4,],[1,2,3,4]])\n",
    "arr2=np.array([[5,6,7,8],[5,6,7,8]])"
   ]
  },
  {
   "cell_type": "code",
   "execution_count": 80,
   "id": "f0c34dde",
   "metadata": {},
   "outputs": [
    {
     "name": "stdout",
     "output_type": "stream",
     "text": [
      "[[1 2 3 4]\n",
      " [1 2 3 4]\n",
      " [5 6 7 8]\n",
      " [5 6 7 8]]\n"
     ]
    }
   ],
   "source": [
    "cat=np.concatenate((arr1,arr2),axis=0)\n",
    "print(cat)"
   ]
  },
  {
   "cell_type": "code",
   "execution_count": 83,
   "id": "15f345fe",
   "metadata": {},
   "outputs": [
    {
     "name": "stdout",
     "output_type": "stream",
     "text": [
      "[[1 2 3 4 5 6 7 8]\n",
      " [1 2 3 4 5 6 7 8]]\n"
     ]
    }
   ],
   "source": [
    "cat=np.concatenate((arr1,arr2),axis=1)\n",
    "print(cat)"
   ]
  },
  {
   "cell_type": "code",
   "execution_count": null,
   "id": "dffbc11d",
   "metadata": {},
   "outputs": [],
   "source": []
  }
 ],
 "metadata": {
  "kernelspec": {
   "display_name": "Python 3 (ipykernel)",
   "language": "python",
   "name": "python3"
  },
  "language_info": {
   "codemirror_mode": {
    "name": "ipython",
    "version": 3
   },
   "file_extension": ".py",
   "mimetype": "text/x-python",
   "name": "python",
   "nbconvert_exporter": "python",
   "pygments_lexer": "ipython3",
   "version": "3.9.7"
  }
 },
 "nbformat": 4,
 "nbformat_minor": 5
}
